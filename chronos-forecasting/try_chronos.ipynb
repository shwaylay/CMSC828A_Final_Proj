{
 "cells": [
  {
   "cell_type": "markdown",
   "metadata": {},
   "source": [
    "How I ran: <br>\n",
    "1. clone https://github.com/amazon-science/chronos-forecasting\n",
    "2. put this file in project root folder\n",
    "3. get datasets from google drive folder and put in data folder in project root folder"
   ]
  },
  {
   "cell_type": "code",
   "execution_count": 1,
   "metadata": {},
   "outputs": [
    {
     "name": "stderr",
     "output_type": "stream",
     "text": [
      "c:\\Users\\msuehle\\Documents\\College\\CMSC828A\\chronos-forecasting\\env\\Lib\\site-packages\\tqdm\\auto.py:21: TqdmWarning: IProgress not found. Please update jupyter and ipywidgets. See https://ipywidgets.readthedocs.io/en/stable/user_install.html\n",
      "  from .autonotebook import tqdm as notebook_tqdm\n"
     ]
    }
   ],
   "source": [
    "import matplotlib.pyplot as plt\n",
    "import numpy as np\n",
    "import pandas as pd\n",
    "import torch\n",
    "from src.chronos import ChronosPipeline"
   ]
  },
  {
   "cell_type": "code",
   "execution_count": 27,
   "metadata": {},
   "outputs": [],
   "source": [
    "pipeline = ChronosPipeline.from_pretrained(\n",
    "    \"amazon/chronos-t5-small\",\n",
    "    device_map=\"cuda\",  # use \"cpu\" for CPU inference and \"mps\" for Apple Silicon\n",
    "    torch_dtype=torch.bfloat16,\n",
    ")"
   ]
  },
  {
   "cell_type": "code",
   "execution_count": 28,
   "metadata": {},
   "outputs": [
    {
     "data": {
      "text/html": [
       "<div>\n",
       "<style scoped>\n",
       "    .dataframe tbody tr th:only-of-type {\n",
       "        vertical-align: middle;\n",
       "    }\n",
       "\n",
       "    .dataframe tbody tr th {\n",
       "        vertical-align: top;\n",
       "    }\n",
       "\n",
       "    .dataframe thead th {\n",
       "        text-align: right;\n",
       "    }\n",
       "</style>\n",
       "<table border=\"1\" class=\"dataframe\">\n",
       "  <thead>\n",
       "    <tr style=\"text-align: right;\">\n",
       "      <th></th>\n",
       "      <th>Month</th>\n",
       "      <th>#Passengers</th>\n",
       "    </tr>\n",
       "  </thead>\n",
       "  <tbody>\n",
       "    <tr>\n",
       "      <th>0</th>\n",
       "      <td>1949-01</td>\n",
       "      <td>112</td>\n",
       "    </tr>\n",
       "    <tr>\n",
       "      <th>1</th>\n",
       "      <td>1949-02</td>\n",
       "      <td>118</td>\n",
       "    </tr>\n",
       "    <tr>\n",
       "      <th>2</th>\n",
       "      <td>1949-03</td>\n",
       "      <td>132</td>\n",
       "    </tr>\n",
       "    <tr>\n",
       "      <th>3</th>\n",
       "      <td>1949-04</td>\n",
       "      <td>129</td>\n",
       "    </tr>\n",
       "    <tr>\n",
       "      <th>4</th>\n",
       "      <td>1949-05</td>\n",
       "      <td>121</td>\n",
       "    </tr>\n",
       "    <tr>\n",
       "      <th>...</th>\n",
       "      <td>...</td>\n",
       "      <td>...</td>\n",
       "    </tr>\n",
       "    <tr>\n",
       "      <th>139</th>\n",
       "      <td>1960-08</td>\n",
       "      <td>606</td>\n",
       "    </tr>\n",
       "    <tr>\n",
       "      <th>140</th>\n",
       "      <td>1960-09</td>\n",
       "      <td>508</td>\n",
       "    </tr>\n",
       "    <tr>\n",
       "      <th>141</th>\n",
       "      <td>1960-10</td>\n",
       "      <td>461</td>\n",
       "    </tr>\n",
       "    <tr>\n",
       "      <th>142</th>\n",
       "      <td>1960-11</td>\n",
       "      <td>390</td>\n",
       "    </tr>\n",
       "    <tr>\n",
       "      <th>143</th>\n",
       "      <td>1960-12</td>\n",
       "      <td>432</td>\n",
       "    </tr>\n",
       "  </tbody>\n",
       "</table>\n",
       "<p>144 rows × 2 columns</p>\n",
       "</div>"
      ],
      "text/plain": [
       "       Month  #Passengers\n",
       "0    1949-01          112\n",
       "1    1949-02          118\n",
       "2    1949-03          132\n",
       "3    1949-04          129\n",
       "4    1949-05          121\n",
       "..       ...          ...\n",
       "139  1960-08          606\n",
       "140  1960-09          508\n",
       "141  1960-10          461\n",
       "142  1960-11          390\n",
       "143  1960-12          432\n",
       "\n",
       "[144 rows x 2 columns]"
      ]
     },
     "execution_count": 28,
     "metadata": {},
     "output_type": "execute_result"
    }
   ],
   "source": [
    "df = pd.read_csv(\"https://raw.githubusercontent.com/AileenNielsen/TimeSeriesAnalysisWithPython/master/data/AirPassengers.csv\")\n",
    "df"
   ]
  },
  {
   "cell_type": "code",
   "execution_count": 29,
   "metadata": {},
   "outputs": [
    {
     "data": {
      "text/html": [
       "<div>\n",
       "<style scoped>\n",
       "    .dataframe tbody tr th:only-of-type {\n",
       "        vertical-align: middle;\n",
       "    }\n",
       "\n",
       "    .dataframe tbody tr th {\n",
       "        vertical-align: top;\n",
       "    }\n",
       "\n",
       "    .dataframe thead th {\n",
       "        text-align: right;\n",
       "    }\n",
       "</style>\n",
       "<table border=\"1\" class=\"dataframe\">\n",
       "  <thead>\n",
       "    <tr style=\"text-align: right;\">\n",
       "      <th></th>\n",
       "      <th>Month</th>\n",
       "      <th>#Passengers</th>\n",
       "      <th>column</th>\n",
       "    </tr>\n",
       "  </thead>\n",
       "  <tbody>\n",
       "    <tr>\n",
       "      <th>0</th>\n",
       "      <td>1949-01</td>\n",
       "      <td>112</td>\n",
       "      <td>2</td>\n",
       "    </tr>\n",
       "    <tr>\n",
       "      <th>1</th>\n",
       "      <td>1949-02</td>\n",
       "      <td>118</td>\n",
       "      <td>2</td>\n",
       "    </tr>\n",
       "    <tr>\n",
       "      <th>2</th>\n",
       "      <td>1949-03</td>\n",
       "      <td>132</td>\n",
       "      <td>2</td>\n",
       "    </tr>\n",
       "    <tr>\n",
       "      <th>3</th>\n",
       "      <td>1949-04</td>\n",
       "      <td>129</td>\n",
       "      <td>2</td>\n",
       "    </tr>\n",
       "    <tr>\n",
       "      <th>4</th>\n",
       "      <td>1949-05</td>\n",
       "      <td>121</td>\n",
       "      <td>2</td>\n",
       "    </tr>\n",
       "    <tr>\n",
       "      <th>...</th>\n",
       "      <td>...</td>\n",
       "      <td>...</td>\n",
       "      <td>...</td>\n",
       "    </tr>\n",
       "    <tr>\n",
       "      <th>139</th>\n",
       "      <td>1960-08</td>\n",
       "      <td>606</td>\n",
       "      <td>2</td>\n",
       "    </tr>\n",
       "    <tr>\n",
       "      <th>140</th>\n",
       "      <td>1960-09</td>\n",
       "      <td>508</td>\n",
       "      <td>2</td>\n",
       "    </tr>\n",
       "    <tr>\n",
       "      <th>141</th>\n",
       "      <td>1960-10</td>\n",
       "      <td>461</td>\n",
       "      <td>2</td>\n",
       "    </tr>\n",
       "    <tr>\n",
       "      <th>142</th>\n",
       "      <td>1960-11</td>\n",
       "      <td>390</td>\n",
       "      <td>2</td>\n",
       "    </tr>\n",
       "    <tr>\n",
       "      <th>143</th>\n",
       "      <td>1960-12</td>\n",
       "      <td>432</td>\n",
       "      <td>2</td>\n",
       "    </tr>\n",
       "  </tbody>\n",
       "</table>\n",
       "<p>144 rows × 3 columns</p>\n",
       "</div>"
      ],
      "text/plain": [
       "       Month  #Passengers  column\n",
       "0    1949-01          112       2\n",
       "1    1949-02          118       2\n",
       "2    1949-03          132       2\n",
       "3    1949-04          129       2\n",
       "4    1949-05          121       2\n",
       "..       ...          ...     ...\n",
       "139  1960-08          606       2\n",
       "140  1960-09          508       2\n",
       "141  1960-10          461       2\n",
       "142  1960-11          390       2\n",
       "143  1960-12          432       2\n",
       "\n",
       "[144 rows x 3 columns]"
      ]
     },
     "execution_count": 29,
     "metadata": {},
     "output_type": "execute_result"
    }
   ],
   "source": [
    "df[\"column\"] = 2\n",
    "df"
   ]
  },
  {
   "cell_type": "code",
   "execution_count": 30,
   "metadata": {},
   "outputs": [],
   "source": [
    "# context must be either a 1D tensor, a list of 1D tensors,\n",
    "# or a left-padded 2D tensor with batch as the first dimension\n",
    "context = torch.tensor([df[\"#Passengers\"], df['column']])\n",
    "prediction_length = 12\n",
    "forecast = pipeline.predict(\n",
    "    context,\n",
    "    prediction_length,\n",
    "    num_samples=20,\n",
    "    temperature=1.0,\n",
    "    top_k=50,\n",
    "    top_p=1.0,\n",
    ") # forecast shape: [num_series, num_samples, prediction_length]\n"
   ]
  },
  {
   "cell_type": "code",
   "execution_count": 31,
   "metadata": {},
   "outputs": [
    {
     "data": {
      "image/png": "[encoded data removed]",
      "text/plain": [
       "<Figure size 800x400 with 1 Axes>"
      ]
     },
     "metadata": {},
     "output_type": "display_data"
    }
   ],
   "source": [
    "# visualize the forecast\n",
    "forecast_index = range(len(df), len(df) + prediction_length)\n",
    "low, median, high = np.quantile(forecast[0].numpy(), [0.1, 0.5, 0.9], axis=0)\n",
    "\n",
    "plt.figure(figsize=(8, 4))\n",
    "plt.plot(df[\"#Passengers\"], color=\"royalblue\", label=\"historical data\")\n",
    "plt.plot(forecast_index, median, color=\"tomato\", label=\"median forecast\")\n",
    "plt.fill_between(forecast_index, low, high, color=\"tomato\", alpha=0.3, label=\"80% prediction interval\")\n",
    "plt.legend()\n",
    "plt.grid()\n",
    "plt.show()"
   ]
  },
  {
   "cell_type": "code",
   "execution_count": 32,
   "metadata": {},
   "outputs": [
    {
     "data": {
      "text/plain": [
       "array([439.76480103, 416.13241577, 458.25956726, 476.75419617,\n",
       "       495.24894714, 572.31063843, 660.67449951, 645.26226807,\n",
       "       542.51348877, 484.97421265, 423.32501221, 469.56184387])"
      ]
     },
     "execution_count": 32,
     "metadata": {},
     "output_type": "execute_result"
    }
   ],
   "source": [
    "median"
   ]
  },
  {
   "cell_type": "code",
   "execution_count": 19,
   "metadata": {},
   "outputs": [],
   "source": [
    "# context must be either a 1D tensor, a list of 1D tensors,\n",
    "# or a left-padded 2D tensor with batch as the first dimension\n",
    "context = torch.tensor([df[\"#Passengers\"], df[\"column\"]])\n",
    "embeddings, tokenizer_state = pipeline.embed(context)"
   ]
  },
  {
   "cell_type": "code",
   "execution_count": 20,
   "metadata": {},
   "outputs": [
    {
     "data": {
      "text/plain": [
       "tensor([[[ 0.0408,  0.0236,  0.0098,  ...,  0.0152,  0.0237, -0.0018],\n",
       "         [ 0.0299, -0.0315,  0.0388,  ...,  0.0347,  0.0178, -0.0016],\n",
       "         [-0.0239,  0.0167,  0.0408,  ...,  0.0488,  0.0052,  0.0203],\n",
       "         ...,\n",
       "         [ 0.0569,  0.0231,  0.0063,  ..., -0.1074,  0.0008, -0.0070],\n",
       "         [-0.0325, -0.0325, -0.0060,  ..., -0.0718, -0.0034,  0.0277],\n",
       "         [ 0.0072,  0.0172, -0.0175,  ..., -0.0034, -0.0121,  0.0309]],\n",
       "\n",
       "        [[-0.0072, -0.0248, -0.0176,  ...,  0.0017,  0.0128,  0.0085],\n",
       "         [-0.0067, -0.0248, -0.0176,  ...,  0.0020,  0.0119,  0.0083],\n",
       "         [-0.0069, -0.0244, -0.0171,  ...,  0.0022,  0.0117,  0.0080],\n",
       "         ...,\n",
       "         [ 0.0113, -0.0270, -0.0444,  ..., -0.0104,  0.0008,  0.0092],\n",
       "         [ 0.0093, -0.0479, -0.0613,  ..., -0.0101, -0.0030,  0.0073],\n",
       "         [ 0.0007,  0.0064, -0.0184,  ...,  0.0471, -0.0010, -0.0025]]],\n",
       "       dtype=torch.bfloat16)"
      ]
     },
     "execution_count": 20,
     "metadata": {},
     "output_type": "execute_result"
    }
   ],
   "source": [
    "embeddings"
   ]
  },
  {
   "cell_type": "markdown",
   "metadata": {},
   "source": [
    "<h4> now try with different dataset </h4>"
   ]
  },
  {
   "cell_type": "code",
   "execution_count": 4,
   "metadata": {},
   "outputs": [],
   "source": [
    "pipeline = ChronosPipeline.from_pretrained(\n",
    "    \"amazon/chronos-t5-small\",\n",
    "    device_map=\"cuda\",  # use \"cpu\" for CPU inference and \"mps\" for Apple Silicon\n",
    "    torch_dtype=torch.bfloat16,\n",
    ")"
   ]
  },
  {
   "cell_type": "code",
   "execution_count": 5,
   "metadata": {},
   "outputs": [],
   "source": [
    "df = pd.read_csv(r\"data\\amazon_stock.csv\")"
   ]
  },
  {
   "cell_type": "code",
   "execution_count": 10,
   "metadata": {},
   "outputs": [
    {
     "data": {
      "text/html": [
       "<div>\n",
       "<style scoped>\n",
       "    .dataframe tbody tr th:only-of-type {\n",
       "        vertical-align: middle;\n",
       "    }\n",
       "\n",
       "    .dataframe tbody tr th {\n",
       "        vertical-align: top;\n",
       "    }\n",
       "\n",
       "    .dataframe thead th {\n",
       "        text-align: right;\n",
       "    }\n",
       "</style>\n",
       "<table border=\"1\" class=\"dataframe\">\n",
       "  <thead>\n",
       "    <tr style=\"text-align: right;\">\n",
       "      <th></th>\n",
       "      <th>Date</th>\n",
       "      <th>Open</th>\n",
       "      <th>High</th>\n",
       "      <th>Low</th>\n",
       "      <th>Close</th>\n",
       "      <th>Adj Close</th>\n",
       "      <th>Volume</th>\n",
       "    </tr>\n",
       "  </thead>\n",
       "  <tbody>\n",
       "    <tr>\n",
       "      <th>0</th>\n",
       "      <td>2020-03-10</td>\n",
       "      <td>93.543999</td>\n",
       "      <td>94.713501</td>\n",
       "      <td>90.908501</td>\n",
       "      <td>94.591003</td>\n",
       "      <td>94.591003</td>\n",
       "      <td>142666000</td>\n",
       "    </tr>\n",
       "    <tr>\n",
       "      <th>1</th>\n",
       "      <td>2020-03-11</td>\n",
       "      <td>92.892502</td>\n",
       "      <td>93.566002</td>\n",
       "      <td>90.074997</td>\n",
       "      <td>91.042999</td>\n",
       "      <td>91.042999</td>\n",
       "      <td>112496000</td>\n",
       "    </tr>\n",
       "    <tr>\n",
       "      <th>2</th>\n",
       "      <td>2020-03-12</td>\n",
       "      <td>86.098999</td>\n",
       "      <td>88.250000</td>\n",
       "      <td>83.750000</td>\n",
       "      <td>83.830498</td>\n",
       "      <td>83.830498</td>\n",
       "      <td>226924000</td>\n",
       "    </tr>\n",
       "    <tr>\n",
       "      <th>3</th>\n",
       "      <td>2020-03-13</td>\n",
       "      <td>87.750000</td>\n",
       "      <td>89.315498</td>\n",
       "      <td>84.030998</td>\n",
       "      <td>89.250000</td>\n",
       "      <td>89.250000</td>\n",
       "      <td>176194000</td>\n",
       "    </tr>\n",
       "    <tr>\n",
       "      <th>4</th>\n",
       "      <td>2020-03-16</td>\n",
       "      <td>82.075500</td>\n",
       "      <td>87.972504</td>\n",
       "      <td>81.301498</td>\n",
       "      <td>84.457497</td>\n",
       "      <td>84.457497</td>\n",
       "      <td>178346000</td>\n",
       "    </tr>\n",
       "    <tr>\n",
       "      <th>...</th>\n",
       "      <td>...</td>\n",
       "      <td>...</td>\n",
       "      <td>...</td>\n",
       "      <td>...</td>\n",
       "      <td>...</td>\n",
       "      <td>...</td>\n",
       "      <td>...</td>\n",
       "    </tr>\n",
       "    <tr>\n",
       "      <th>1008</th>\n",
       "      <td>2024-03-12</td>\n",
       "      <td>173.500000</td>\n",
       "      <td>176.759995</td>\n",
       "      <td>171.979996</td>\n",
       "      <td>175.389999</td>\n",
       "      <td>175.389999</td>\n",
       "      <td>36610600</td>\n",
       "    </tr>\n",
       "    <tr>\n",
       "      <th>1009</th>\n",
       "      <td>2024-03-13</td>\n",
       "      <td>175.899994</td>\n",
       "      <td>177.619995</td>\n",
       "      <td>175.550003</td>\n",
       "      <td>176.559998</td>\n",
       "      <td>176.559998</td>\n",
       "      <td>30772600</td>\n",
       "    </tr>\n",
       "    <tr>\n",
       "      <th>1010</th>\n",
       "      <td>2024-03-14</td>\n",
       "      <td>177.690002</td>\n",
       "      <td>179.529999</td>\n",
       "      <td>176.470001</td>\n",
       "      <td>178.750000</td>\n",
       "      <td>178.750000</td>\n",
       "      <td>43705800</td>\n",
       "    </tr>\n",
       "    <tr>\n",
       "      <th>1011</th>\n",
       "      <td>2024-03-15</td>\n",
       "      <td>176.639999</td>\n",
       "      <td>177.929993</td>\n",
       "      <td>173.899994</td>\n",
       "      <td>174.419998</td>\n",
       "      <td>174.419998</td>\n",
       "      <td>72115500</td>\n",
       "    </tr>\n",
       "    <tr>\n",
       "      <th>1012</th>\n",
       "      <td>2024-03-18</td>\n",
       "      <td>175.800003</td>\n",
       "      <td>176.690002</td>\n",
       "      <td>174.279999</td>\n",
       "      <td>174.479996</td>\n",
       "      <td>174.479996</td>\n",
       "      <td>31250700</td>\n",
       "    </tr>\n",
       "  </tbody>\n",
       "</table>\n",
       "<p>1013 rows × 7 columns</p>\n",
       "</div>"
      ],
      "text/plain": [
       "            Date        Open        High         Low       Close   Adj Close  \\\n",
       "0     2020-03-10   93.543999   94.713501   90.908501   94.591003   94.591003   \n",
       "1     2020-03-11   92.892502   93.566002   90.074997   91.042999   91.042999   \n",
       "2     2020-03-12   86.098999   88.250000   83.750000   83.830498   83.830498   \n",
       "3     2020-03-13   87.750000   89.315498   84.030998   89.250000   89.250000   \n",
       "4     2020-03-16   82.075500   87.972504   81.301498   84.457497   84.457497   \n",
       "...          ...         ...         ...         ...         ...         ...   \n",
       "1008  2024-03-12  173.500000  176.759995  171.979996  175.389999  175.389999   \n",
       "1009  2024-03-13  175.899994  177.619995  175.550003  176.559998  176.559998   \n",
       "1010  2024-03-14  177.690002  179.529999  176.470001  178.750000  178.750000   \n",
       "1011  2024-03-15  176.639999  177.929993  173.899994  174.419998  174.419998   \n",
       "1012  2024-03-18  175.800003  176.690002  174.279999  174.479996  174.479996   \n",
       "\n",
       "         Volume  \n",
       "0     142666000  \n",
       "1     112496000  \n",
       "2     226924000  \n",
       "3     176194000  \n",
       "4     178346000  \n",
       "...         ...  \n",
       "1008   36610600  \n",
       "1009   30772600  \n",
       "1010   43705800  \n",
       "1011   72115500  \n",
       "1012   31250700  \n",
       "\n",
       "[1013 rows x 7 columns]"
      ]
     },
     "execution_count": 10,
     "metadata": {},
     "output_type": "execute_result"
    }
   ],
   "source": [
    "df.iloc[:-20]"
   ]
  },
  {
   "cell_type": "code",
   "execution_count": 11,
   "metadata": {},
   "outputs": [],
   "source": [
    "# context must be either a 1D tensor, a list of 1D tensors,\n",
    "# or a left-padded 2D tensor with batch as the first dimension\n",
    "context = torch.tensor([df[\"Open\"].iloc[:-30]]) # reserve last 30 for testing\n",
    "prediction_length = 30\n",
    "forecast = pipeline.predict(\n",
    "    context,\n",
    "    prediction_length,\n",
    "    num_samples=20,\n",
    "    temperature=1.0,\n",
    "    top_k=50,\n",
    "    top_p=1.0,\n",
    ") # forecast shape: [num_series, num_samples, prediction_length]"
   ]
  },
  {
   "cell_type": "code",
   "execution_count": 15,
   "metadata": {},
   "outputs": [
    {
     "data": {
      "image/png": "[encoded data removed]",
      "text/plain": [
       "<Figure size 800x400 with 1 Axes>"
      ]
     },
     "metadata": {},
     "output_type": "display_data"
    }
   ],
   "source": [
    "# visualize the forecast\n",
    "forecast_index = range(len(df.iloc[:-30]), len(df.iloc[:-30]) + prediction_length)\n",
    "low, median, high = np.quantile(forecast[0].numpy(), [0.1, 0.5, 0.9], axis=0)\n",
    "\n",
    "plt.figure(figsize=(8, 4))\n",
    "plt.plot(df[\"Open\"], color=\"royalblue\", label=\"historical data\")\n",
    "plt.plot(forecast_index, median, color=\"tomato\", label=\"median forecast\")\n",
    "plt.fill_between(forecast_index, low, high, color=\"tomato\", alpha=0.3, label=\"80% prediction interval\")\n",
    "plt.legend()\n",
    "plt.grid()\n",
    "plt.show()"
   ]
  },
  {
   "cell_type": "code",
   "execution_count": 16,
   "metadata": {},
   "outputs": [
    {
     "data": {
      "text/plain": [
       "1003    176.929993\n",
       "1004    175.539993\n",
       "1005    174.830002\n",
       "1006    176.440002\n",
       "1007    174.309998\n",
       "1008    173.500000\n",
       "1009    175.899994\n",
       "1010    177.690002\n",
       "1011    176.639999\n",
       "1012    175.800003\n",
       "1013    174.220001\n",
       "1014    176.139999\n",
       "1015    179.990005\n",
       "1016    177.750000\n",
       "1017    178.009995\n",
       "1018    180.149994\n",
       "1019    179.880005\n",
       "1020    180.169998\n",
       "1021    180.789993\n",
       "1022    179.070007\n",
       "1023    179.899994\n",
       "1024    184.000000\n",
       "1025    182.380005\n",
       "1026    186.899994\n",
       "1027    187.240005\n",
       "1028    182.770004\n",
       "1029    186.740005\n",
       "1030    187.720001\n",
       "1031    187.429993\n",
       "1032    183.270004\n",
       "Name: Open, dtype: float64"
      ]
     },
     "execution_count": 16,
     "metadata": {},
     "output_type": "execute_result"
    }
   ],
   "source": [
    "df['Open'].iloc[-30:]"
   ]
  },
  {
   "cell_type": "code",
   "execution_count": 14,
   "metadata": {},
   "outputs": [
    {
     "data": {
      "text/plain": [
       "array([177.33902639, 177.79723658, 178.71377617, 178.71371656,\n",
       "       177.33902639, 177.79723658, 177.79729619, 177.33902639,\n",
       "       176.8808162 , 176.8808162 , 175.96427661, 177.33902639,\n",
       "       180.54673615, 182.83790631, 182.37969612, 183.29617611,\n",
       "       181.92142632, 182.83790631, 183.2961165 , 184.21265609,\n",
       "       184.21265609, 183.75438629, 183.29617611, 183.75438629,\n",
       "       184.67086628, 182.83790631, 184.67086628, 185.12907647,\n",
       "       184.21265609, 183.29617611])"
      ]
     },
     "execution_count": 14,
     "metadata": {},
     "output_type": "execute_result"
    }
   ],
   "source": [
    "median"
   ]
  },
  {
   "cell_type": "code",
   "execution_count": 17,
   "metadata": {},
   "outputs": [
    {
     "data": {
      "text/plain": [
       "array([-0.40903371, -2.25724329, -3.88377434, -2.27371412, -3.02902883,\n",
       "       -4.29723658, -1.89730229,  0.35097605, -0.24081681, -1.08081315,\n",
       "       -1.74427539, -1.199027  , -0.55673065, -5.08790631, -4.36970161,\n",
       "       -3.14618221, -2.04142144, -2.66790814, -2.50612321, -5.14264877,\n",
       "       -4.3126622 ,  0.24561371, -0.91617122,  3.1456076 ,  2.56913921,\n",
       "       -0.06790204,  2.06913921,  2.59092475,  3.21733658, -0.02617183])"
      ]
     },
     "execution_count": 17,
     "metadata": {},
     "output_type": "execute_result"
    }
   ],
   "source": [
    "#loss\n",
    "np.array(df['Open'].iloc[-30:]) - np.array(median)"
   ]
  },
  {
   "cell_type": "code",
   "execution_count": 18,
   "metadata": {},
   "outputs": [],
   "source": [
    "layoff_df = pd.read_csv(r\"data\\layoffs.csv\")\n",
    "layoff_df = layoff_df.rename(columns={\"date\":\"Date\"})"
   ]
  },
  {
   "cell_type": "code",
   "execution_count": 42,
   "metadata": {},
   "outputs": [
    {
     "data": {
      "text/plain": [
       "industry\n",
       "Finance           441\n",
       "Retail            296\n",
       "Healthcare        286\n",
       "Other             218\n",
       "Transportation    215\n",
       "Food              207\n",
       "Consumer          202\n",
       "Marketing         174\n",
       "Real Estate       150\n",
       "Crypto            142\n",
       "Education         140\n",
       "Media             137\n",
       "Security          121\n",
       "Data              116\n",
       "HR                 95\n",
       "Travel             94\n",
       "Infrastructure     64\n",
       "Logistics          64\n",
       "Sales              55\n",
       "Support            53\n",
       "Hardware           49\n",
       "Recruiting         48\n",
       "Product            46\n",
       "Fitness            41\n",
       "Energy             29\n",
       "Construction       24\n",
       "Legal              18\n",
       "Manufacturing      17\n",
       "Aerospace          15\n",
       "AI                 10\n",
       "Name: count, dtype: int64"
      ]
     },
     "execution_count": 42,
     "metadata": {},
     "output_type": "execute_result"
    }
   ],
   "source": [
    "layoff_df['industry'].value_counts()"
   ]
  },
  {
   "cell_type": "code",
   "execution_count": 19,
   "metadata": {},
   "outputs": [
    {
     "data": {
      "text/html": [
       "<div>\n",
       "<style scoped>\n",
       "    .dataframe tbody tr th:only-of-type {\n",
       "        vertical-align: middle;\n",
       "    }\n",
       "\n",
       "    .dataframe tbody tr th {\n",
       "        vertical-align: top;\n",
       "    }\n",
       "\n",
       "    .dataframe thead th {\n",
       "        text-align: right;\n",
       "    }\n",
       "</style>\n",
       "<table border=\"1\" class=\"dataframe\">\n",
       "  <thead>\n",
       "    <tr style=\"text-align: right;\">\n",
       "      <th></th>\n",
       "      <th>Date</th>\n",
       "      <th>total_laid_off</th>\n",
       "    </tr>\n",
       "  </thead>\n",
       "  <tbody>\n",
       "    <tr>\n",
       "      <th>0</th>\n",
       "      <td>2020-03-12</td>\n",
       "      <td>20.0</td>\n",
       "    </tr>\n",
       "    <tr>\n",
       "      <th>1</th>\n",
       "      <td>2020-03-19</td>\n",
       "      <td>0.0</td>\n",
       "    </tr>\n",
       "    <tr>\n",
       "      <th>2</th>\n",
       "      <td>2020-03-23</td>\n",
       "      <td>91.0</td>\n",
       "    </tr>\n",
       "    <tr>\n",
       "      <th>3</th>\n",
       "      <td>2020-03-24</td>\n",
       "      <td>0.0</td>\n",
       "    </tr>\n",
       "    <tr>\n",
       "      <th>4</th>\n",
       "      <td>2020-03-25</td>\n",
       "      <td>0.0</td>\n",
       "    </tr>\n",
       "    <tr>\n",
       "      <th>...</th>\n",
       "      <td>...</td>\n",
       "      <td>...</td>\n",
       "    </tr>\n",
       "    <tr>\n",
       "      <th>223</th>\n",
       "      <td>2024-02-26</td>\n",
       "      <td>0.0</td>\n",
       "    </tr>\n",
       "    <tr>\n",
       "      <th>224</th>\n",
       "      <td>2024-03-19</td>\n",
       "      <td>195.0</td>\n",
       "    </tr>\n",
       "    <tr>\n",
       "      <th>225</th>\n",
       "      <td>2024-04-03</td>\n",
       "      <td>280.0</td>\n",
       "    </tr>\n",
       "    <tr>\n",
       "      <th>226</th>\n",
       "      <td>2024-04-08</td>\n",
       "      <td>79.0</td>\n",
       "    </tr>\n",
       "    <tr>\n",
       "      <th>227</th>\n",
       "      <td>2024-04-18</td>\n",
       "      <td>150.0</td>\n",
       "    </tr>\n",
       "  </tbody>\n",
       "</table>\n",
       "<p>228 rows × 2 columns</p>\n",
       "</div>"
      ],
      "text/plain": [
       "           Date  total_laid_off\n",
       "0    2020-03-12            20.0\n",
       "1    2020-03-19             0.0\n",
       "2    2020-03-23            91.0\n",
       "3    2020-03-24             0.0\n",
       "4    2020-03-25             0.0\n",
       "..          ...             ...\n",
       "223  2024-02-26             0.0\n",
       "224  2024-03-19           195.0\n",
       "225  2024-04-03           280.0\n",
       "226  2024-04-08            79.0\n",
       "227  2024-04-18           150.0\n",
       "\n",
       "[228 rows x 2 columns]"
      ]
     },
     "execution_count": 19,
     "metadata": {},
     "output_type": "execute_result"
    }
   ],
   "source": [
    "layoff_df_retail = layoff_df.loc[layoff_df['industry'] == \"Retail\"]\n",
    "total_layoffs = layoff_df_retail[[\"Date\",\"total_laid_off\"]].groupby(\"Date\").sum().reset_index()\n",
    "total_layoffs"
   ]
  },
  {
   "cell_type": "code",
   "execution_count": 20,
   "metadata": {},
   "outputs": [],
   "source": [
    "merged_df = pd.merge(df, total_layoffs, on=\"Date\", how=\"outer\").fillna(0)"
   ]
  },
  {
   "cell_type": "code",
   "execution_count": 49,
   "metadata": {},
   "outputs": [
    {
     "data": {
      "text/html": [
       "<div>\n",
       "<style scoped>\n",
       "    .dataframe tbody tr th:only-of-type {\n",
       "        vertical-align: middle;\n",
       "    }\n",
       "\n",
       "    .dataframe tbody tr th {\n",
       "        vertical-align: top;\n",
       "    }\n",
       "\n",
       "    .dataframe thead th {\n",
       "        text-align: right;\n",
       "    }\n",
       "</style>\n",
       "<table border=\"1\" class=\"dataframe\">\n",
       "  <thead>\n",
       "    <tr style=\"text-align: right;\">\n",
       "      <th></th>\n",
       "      <th>Date</th>\n",
       "      <th>Open</th>\n",
       "      <th>High</th>\n",
       "      <th>Low</th>\n",
       "      <th>Close</th>\n",
       "      <th>Adj Close</th>\n",
       "      <th>Volume</th>\n",
       "      <th>total_laid_off</th>\n",
       "    </tr>\n",
       "  </thead>\n",
       "  <tbody>\n",
       "    <tr>\n",
       "      <th>0</th>\n",
       "      <td>2020-03-10</td>\n",
       "      <td>93.543999</td>\n",
       "      <td>94.713501</td>\n",
       "      <td>90.908501</td>\n",
       "      <td>94.591003</td>\n",
       "      <td>94.591003</td>\n",
       "      <td>142666000.0</td>\n",
       "      <td>0.0</td>\n",
       "    </tr>\n",
       "    <tr>\n",
       "      <th>1</th>\n",
       "      <td>2020-03-11</td>\n",
       "      <td>92.892502</td>\n",
       "      <td>93.566002</td>\n",
       "      <td>90.074997</td>\n",
       "      <td>91.042999</td>\n",
       "      <td>91.042999</td>\n",
       "      <td>112496000.0</td>\n",
       "      <td>0.0</td>\n",
       "    </tr>\n",
       "    <tr>\n",
       "      <th>2</th>\n",
       "      <td>2020-03-12</td>\n",
       "      <td>86.098999</td>\n",
       "      <td>88.250000</td>\n",
       "      <td>83.750000</td>\n",
       "      <td>83.830498</td>\n",
       "      <td>83.830498</td>\n",
       "      <td>226924000.0</td>\n",
       "      <td>20.0</td>\n",
       "    </tr>\n",
       "    <tr>\n",
       "      <th>3</th>\n",
       "      <td>2020-03-13</td>\n",
       "      <td>87.750000</td>\n",
       "      <td>89.315498</td>\n",
       "      <td>84.030998</td>\n",
       "      <td>89.250000</td>\n",
       "      <td>89.250000</td>\n",
       "      <td>176194000.0</td>\n",
       "      <td>0.0</td>\n",
       "    </tr>\n",
       "    <tr>\n",
       "      <th>4</th>\n",
       "      <td>2020-03-16</td>\n",
       "      <td>82.075500</td>\n",
       "      <td>87.972504</td>\n",
       "      <td>81.301498</td>\n",
       "      <td>84.457497</td>\n",
       "      <td>84.457497</td>\n",
       "      <td>178346000.0</td>\n",
       "      <td>0.0</td>\n",
       "    </tr>\n",
       "    <tr>\n",
       "      <th>...</th>\n",
       "      <td>...</td>\n",
       "      <td>...</td>\n",
       "      <td>...</td>\n",
       "      <td>...</td>\n",
       "      <td>...</td>\n",
       "      <td>...</td>\n",
       "      <td>...</td>\n",
       "      <td>...</td>\n",
       "    </tr>\n",
       "    <tr>\n",
       "      <th>1040</th>\n",
       "      <td>2024-04-11</td>\n",
       "      <td>186.740005</td>\n",
       "      <td>189.770004</td>\n",
       "      <td>185.509995</td>\n",
       "      <td>189.050003</td>\n",
       "      <td>189.050003</td>\n",
       "      <td>40020700.0</td>\n",
       "      <td>0.0</td>\n",
       "    </tr>\n",
       "    <tr>\n",
       "      <th>1041</th>\n",
       "      <td>2024-04-12</td>\n",
       "      <td>187.720001</td>\n",
       "      <td>188.380005</td>\n",
       "      <td>185.080002</td>\n",
       "      <td>186.130005</td>\n",
       "      <td>186.130005</td>\n",
       "      <td>38554300.0</td>\n",
       "      <td>0.0</td>\n",
       "    </tr>\n",
       "    <tr>\n",
       "      <th>1042</th>\n",
       "      <td>2024-04-15</td>\n",
       "      <td>187.429993</td>\n",
       "      <td>188.690002</td>\n",
       "      <td>183.000000</td>\n",
       "      <td>183.619995</td>\n",
       "      <td>183.619995</td>\n",
       "      <td>48052400.0</td>\n",
       "      <td>0.0</td>\n",
       "    </tr>\n",
       "    <tr>\n",
       "      <th>1043</th>\n",
       "      <td>2024-04-16</td>\n",
       "      <td>183.270004</td>\n",
       "      <td>184.830002</td>\n",
       "      <td>182.259995</td>\n",
       "      <td>183.320007</td>\n",
       "      <td>183.320007</td>\n",
       "      <td>32891300.0</td>\n",
       "      <td>0.0</td>\n",
       "    </tr>\n",
       "    <tr>\n",
       "      <th>1044</th>\n",
       "      <td>2024-04-18</td>\n",
       "      <td>0.000000</td>\n",
       "      <td>0.000000</td>\n",
       "      <td>0.000000</td>\n",
       "      <td>0.000000</td>\n",
       "      <td>0.000000</td>\n",
       "      <td>0.0</td>\n",
       "      <td>150.0</td>\n",
       "    </tr>\n",
       "  </tbody>\n",
       "</table>\n",
       "<p>1045 rows × 8 columns</p>\n",
       "</div>"
      ],
      "text/plain": [
       "            Date        Open        High         Low       Close   Adj Close  \\\n",
       "0     2020-03-10   93.543999   94.713501   90.908501   94.591003   94.591003   \n",
       "1     2020-03-11   92.892502   93.566002   90.074997   91.042999   91.042999   \n",
       "2     2020-03-12   86.098999   88.250000   83.750000   83.830498   83.830498   \n",
       "3     2020-03-13   87.750000   89.315498   84.030998   89.250000   89.250000   \n",
       "4     2020-03-16   82.075500   87.972504   81.301498   84.457497   84.457497   \n",
       "...          ...         ...         ...         ...         ...         ...   \n",
       "1040  2024-04-11  186.740005  189.770004  185.509995  189.050003  189.050003   \n",
       "1041  2024-04-12  187.720001  188.380005  185.080002  186.130005  186.130005   \n",
       "1042  2024-04-15  187.429993  188.690002  183.000000  183.619995  183.619995   \n",
       "1043  2024-04-16  183.270004  184.830002  182.259995  183.320007  183.320007   \n",
       "1044  2024-04-18    0.000000    0.000000    0.000000    0.000000    0.000000   \n",
       "\n",
       "           Volume  total_laid_off  \n",
       "0     142666000.0             0.0  \n",
       "1     112496000.0             0.0  \n",
       "2     226924000.0            20.0  \n",
       "3     176194000.0             0.0  \n",
       "4     178346000.0             0.0  \n",
       "...           ...             ...  \n",
       "1040   40020700.0             0.0  \n",
       "1041   38554300.0             0.0  \n",
       "1042   48052400.0             0.0  \n",
       "1043   32891300.0             0.0  \n",
       "1044          0.0           150.0  \n",
       "\n",
       "[1045 rows x 8 columns]"
      ]
     },
     "execution_count": 49,
     "metadata": {},
     "output_type": "execute_result"
    }
   ],
   "source": [
    "merged_df"
   ]
  },
  {
   "cell_type": "code",
   "execution_count": 21,
   "metadata": {},
   "outputs": [],
   "source": [
    "# context must be either a 1D tensor, a list of 1D tensors,\n",
    "# or a left-padded 2D tensor with batch as the first dimension\n",
    "context = torch.tensor([merged_df[\"total_laid_off\"].iloc[:-30]])\n",
    "prediction_length = 30\n",
    "forecast = pipeline.predict(\n",
    "    context,\n",
    "    prediction_length,\n",
    "    num_samples=20,\n",
    "    temperature=1.0,\n",
    "    top_k=50,\n",
    "    top_p=1.0,\n",
    ") # forecast shape: [num_series, num_samples, prediction_length]"
   ]
  },
  {
   "cell_type": "code",
   "execution_count": 22,
   "metadata": {},
   "outputs": [
    {
     "data": {
      "image/png": "[encoded data removed]",
      "text/plain": [
       "<Figure size 800x400 with 1 Axes>"
      ]
     },
     "metadata": {},
     "output_type": "display_data"
    }
   ],
   "source": [
    "# visualize the forecast\n",
    "forecast_index = range(len(merged_df.iloc[:-30]), len(merged_df.iloc[:-30]) + prediction_length)\n",
    "low, median, high = np.quantile(forecast[0].numpy(), [0.1, 0.5, 0.9], axis=0)\n",
    "\n",
    "plt.figure(figsize=(8, 4))\n",
    "plt.plot(merged_df[\"total_laid_off\"], color=\"royalblue\", label=\"historical data\")\n",
    "plt.plot(forecast_index, median, color=\"tomato\", label=\"median forecast\")\n",
    "plt.fill_between(forecast_index, low, high, color=\"tomato\", alpha=0.3, label=\"80% prediction interval\")\n",
    "plt.legend()\n",
    "plt.grid()\n",
    "plt.show()"
   ]
  },
  {
   "cell_type": "code",
   "execution_count": 25,
   "metadata": {},
   "outputs": [
    {
     "data": {
      "text/plain": [
       "-16.406094696944265"
      ]
     },
     "execution_count": 25,
     "metadata": {},
     "output_type": "execute_result"
    }
   ],
   "source": [
    "# loss\n",
    "np.mean(np.array(merged_df['total_laid_off'].iloc[-30:]) - np.array(high))"
   ]
  },
  {
   "cell_type": "code",
   "execution_count": 26,
   "metadata": {},
   "outputs": [
    {
     "data": {
      "text/plain": [
       "22.606420351068177"
      ]
     },
     "execution_count": 26,
     "metadata": {},
     "output_type": "execute_result"
    }
   ],
   "source": [
    "np.mean(np.array(merged_df['total_laid_off'].iloc[-30:]) - np.array(median))"
   ]
  },
  {
   "cell_type": "markdown",
   "metadata": {},
   "source": [
    "Try with run_chronos.py"
   ]
  },
  {
   "cell_type": "code",
   "execution_count": 11,
   "metadata": {},
   "outputs": [],
   "source": [
    "import importlib\n",
    "import run_chronos\n",
    "importlib.reload(run_chronos)\n",
    "from run_chronos import ChronosRunner\n",
    "import pandas as pd"
   ]
  },
  {
   "cell_type": "code",
   "execution_count": 12,
   "metadata": {},
   "outputs": [],
   "source": [
    "df = pd.read_csv(r\"data\\amazon_stock.csv\")\n",
    "layoff_df = pd.read_csv(r\"data\\layoffs.csv\")\n",
    "layoff_df = layoff_df.rename(columns={\"date\":\"Date\"})\n",
    "layoff_df_retail = layoff_df.loc[layoff_df['industry'] == \"Retail\"]\n",
    "total_layoffs = layoff_df_retail[[\"Date\",\"total_laid_off\"]].groupby(\"Date\").sum().reset_index()\n",
    "merged_df = pd.merge(df, total_layoffs, on=\"Date\", how=\"outer\")\n",
    "merged_df[\"total_laid_off\"] = merged_df[\"total_laid_off\"].fillna(0)"
   ]
  },
  {
   "cell_type": "code",
   "execution_count": 15,
   "metadata": {},
   "outputs": [
    {
     "data": {
      "text/html": [
       "<div>\n",
       "<style scoped>\n",
       "    .dataframe tbody tr th:only-of-type {\n",
       "        vertical-align: middle;\n",
       "    }\n",
       "\n",
       "    .dataframe tbody tr th {\n",
       "        vertical-align: top;\n",
       "    }\n",
       "\n",
       "    .dataframe thead th {\n",
       "        text-align: right;\n",
       "    }\n",
       "</style>\n",
       "<table border=\"1\" class=\"dataframe\">\n",
       "  <thead>\n",
       "    <tr style=\"text-align: right;\">\n",
       "      <th></th>\n",
       "      <th>Date</th>\n",
       "      <th>Open</th>\n",
       "      <th>High</th>\n",
       "      <th>Low</th>\n",
       "      <th>Close</th>\n",
       "      <th>Adj Close</th>\n",
       "      <th>Volume</th>\n",
       "      <th>total_laid_off</th>\n",
       "    </tr>\n",
       "  </thead>\n",
       "  <tbody>\n",
       "    <tr>\n",
       "      <th>0</th>\n",
       "      <td>2020-03-10</td>\n",
       "      <td>93.543999</td>\n",
       "      <td>94.713501</td>\n",
       "      <td>90.908501</td>\n",
       "      <td>94.591003</td>\n",
       "      <td>94.591003</td>\n",
       "      <td>142666000.0</td>\n",
       "      <td>0.0</td>\n",
       "    </tr>\n",
       "    <tr>\n",
       "      <th>1</th>\n",
       "      <td>2020-03-11</td>\n",
       "      <td>92.892502</td>\n",
       "      <td>93.566002</td>\n",
       "      <td>90.074997</td>\n",
       "      <td>91.042999</td>\n",
       "      <td>91.042999</td>\n",
       "      <td>112496000.0</td>\n",
       "      <td>0.0</td>\n",
       "    </tr>\n",
       "    <tr>\n",
       "      <th>2</th>\n",
       "      <td>2020-03-12</td>\n",
       "      <td>86.098999</td>\n",
       "      <td>88.250000</td>\n",
       "      <td>83.750000</td>\n",
       "      <td>83.830498</td>\n",
       "      <td>83.830498</td>\n",
       "      <td>226924000.0</td>\n",
       "      <td>20.0</td>\n",
       "    </tr>\n",
       "    <tr>\n",
       "      <th>3</th>\n",
       "      <td>2020-03-13</td>\n",
       "      <td>87.750000</td>\n",
       "      <td>89.315498</td>\n",
       "      <td>84.030998</td>\n",
       "      <td>89.250000</td>\n",
       "      <td>89.250000</td>\n",
       "      <td>176194000.0</td>\n",
       "      <td>0.0</td>\n",
       "    </tr>\n",
       "    <tr>\n",
       "      <th>4</th>\n",
       "      <td>2020-03-16</td>\n",
       "      <td>82.075500</td>\n",
       "      <td>87.972504</td>\n",
       "      <td>81.301498</td>\n",
       "      <td>84.457497</td>\n",
       "      <td>84.457497</td>\n",
       "      <td>178346000.0</td>\n",
       "      <td>0.0</td>\n",
       "    </tr>\n",
       "    <tr>\n",
       "      <th>...</th>\n",
       "      <td>...</td>\n",
       "      <td>...</td>\n",
       "      <td>...</td>\n",
       "      <td>...</td>\n",
       "      <td>...</td>\n",
       "      <td>...</td>\n",
       "      <td>...</td>\n",
       "      <td>...</td>\n",
       "    </tr>\n",
       "    <tr>\n",
       "      <th>1041</th>\n",
       "      <td>2024-04-12</td>\n",
       "      <td>187.720001</td>\n",
       "      <td>188.380005</td>\n",
       "      <td>185.080002</td>\n",
       "      <td>186.130005</td>\n",
       "      <td>186.130005</td>\n",
       "      <td>38554300.0</td>\n",
       "      <td>0.0</td>\n",
       "    </tr>\n",
       "    <tr>\n",
       "      <th>1042</th>\n",
       "      <td>2024-04-15</td>\n",
       "      <td>187.429993</td>\n",
       "      <td>188.690002</td>\n",
       "      <td>183.000000</td>\n",
       "      <td>183.619995</td>\n",
       "      <td>183.619995</td>\n",
       "      <td>48052400.0</td>\n",
       "      <td>0.0</td>\n",
       "    </tr>\n",
       "    <tr>\n",
       "      <th>1043</th>\n",
       "      <td>2024-04-16</td>\n",
       "      <td>183.270004</td>\n",
       "      <td>184.830002</td>\n",
       "      <td>182.259995</td>\n",
       "      <td>183.320007</td>\n",
       "      <td>183.320007</td>\n",
       "      <td>32891300.0</td>\n",
       "      <td>0.0</td>\n",
       "    </tr>\n",
       "    <tr>\n",
       "      <th>1044</th>\n",
       "      <td>2024-04-17</td>\n",
       "      <td>184.309998</td>\n",
       "      <td>184.570007</td>\n",
       "      <td>179.820007</td>\n",
       "      <td>181.279999</td>\n",
       "      <td>181.279999</td>\n",
       "      <td>31359700.0</td>\n",
       "      <td>0.0</td>\n",
       "    </tr>\n",
       "    <tr>\n",
       "      <th>1045</th>\n",
       "      <td>2024-04-18</td>\n",
       "      <td>NaN</td>\n",
       "      <td>NaN</td>\n",
       "      <td>NaN</td>\n",
       "      <td>NaN</td>\n",
       "      <td>NaN</td>\n",
       "      <td>NaN</td>\n",
       "      <td>150.0</td>\n",
       "    </tr>\n",
       "  </tbody>\n",
       "</table>\n",
       "<p>1046 rows × 8 columns</p>\n",
       "</div>"
      ],
      "text/plain": [
       "            Date        Open        High         Low       Close   Adj Close  \\\n",
       "0     2020-03-10   93.543999   94.713501   90.908501   94.591003   94.591003   \n",
       "1     2020-03-11   92.892502   93.566002   90.074997   91.042999   91.042999   \n",
       "2     2020-03-12   86.098999   88.250000   83.750000   83.830498   83.830498   \n",
       "3     2020-03-13   87.750000   89.315498   84.030998   89.250000   89.250000   \n",
       "4     2020-03-16   82.075500   87.972504   81.301498   84.457497   84.457497   \n",
       "...          ...         ...         ...         ...         ...         ...   \n",
       "1041  2024-04-12  187.720001  188.380005  185.080002  186.130005  186.130005   \n",
       "1042  2024-04-15  187.429993  188.690002  183.000000  183.619995  183.619995   \n",
       "1043  2024-04-16  183.270004  184.830002  182.259995  183.320007  183.320007   \n",
       "1044  2024-04-17  184.309998  184.570007  179.820007  181.279999  181.279999   \n",
       "1045  2024-04-18         NaN         NaN         NaN         NaN         NaN   \n",
       "\n",
       "           Volume  total_laid_off  \n",
       "0     142666000.0             0.0  \n",
       "1     112496000.0             0.0  \n",
       "2     226924000.0            20.0  \n",
       "3     176194000.0             0.0  \n",
       "4     178346000.0             0.0  \n",
       "...           ...             ...  \n",
       "1041   38554300.0             0.0  \n",
       "1042   48052400.0             0.0  \n",
       "1043   32891300.0             0.0  \n",
       "1044   31359700.0             0.0  \n",
       "1045          NaN           150.0  \n",
       "\n",
       "[1046 rows x 8 columns]"
      ]
     },
     "execution_count": 15,
     "metadata": {},
     "output_type": "execute_result"
    }
   ],
   "source": [
    "merged_df"
   ]
  },
  {
   "cell_type": "code",
   "execution_count": 21,
   "metadata": {},
   "outputs": [
    {
     "data": {
      "text/plain": [
       "[11.975453657445712, 3.8547130120227604, 7.9906401784989995]"
      ]
     },
     "execution_count": 21,
     "metadata": {},
     "output_type": "execute_result"
    },
    {
     "data": {
      "image/png": "[encoded data removed]",
      "text/plain": [
       "<Figure size 800x400 with 1 Axes>"
      ]
     },
     "metadata": {},
     "output_type": "display_data"
    }
   ],
   "source": [
    "cr = ChronosRunner()\n",
    "cr.evaluate(merged_df.loc[~merged_df[\"Open\"].isna()].reset_index(), \"Open\")"
   ]
  },
  {
   "cell_type": "code",
   "execution_count": 22,
   "metadata": {},
   "outputs": [
    {
     "data": {
      "text/plain": [
       "[69.27649286238017, 69.27649286238017, 329.7335697548615]"
      ]
     },
     "execution_count": 22,
     "metadata": {},
     "output_type": "execute_result"
    },
    {
     "data": {
      "image/png": "[encoded data removed]",
      "text/plain": [
       "<Figure size 800x400 with 1 Axes>"
      ]
     },
     "metadata": {},
     "output_type": "display_data"
    }
   ],
   "source": [
    "cr.evaluate(merged_df, \"total_laid_off\")"
   ]
  }
 ],
 "metadata": {
  "kernelspec": {
   "display_name": "Python 3",
   "language": "python",
   "name": "python3"
  },
  "language_info": {
   "codemirror_mode": {
    "name": "ipython",
    "version": 3
   },
   "file_extension": ".py",
   "mimetype": "text/x-python",
   "name": "python",
   "nbconvert_exporter": "python",
   "pygments_lexer": "ipython3",
   "version": "3.11.5"
  }
 },
 "nbformat": 4,
 "nbformat_minor": 2
}
