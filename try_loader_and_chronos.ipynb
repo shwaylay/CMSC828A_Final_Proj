{
 "cells": [
  {
   "cell_type": "code",
   "execution_count": 3,
   "metadata": {},
   "outputs": [],
   "source": [
    "import importlib\n",
    "import time_series_dataloader\n",
    "importlib.reload(time_series_dataloader)\n",
    "from time_series_dataloader import TimeSeriesDataset\n",
    "\n",
    "import chronos_forecasting.run_chronos\n",
    "import importlib\n",
    "importlib.reload(chronos_forecasting.run_chronos)\n",
    "\n",
    "from chronos_forecasting.run_chronos import ChronosRunner\n",
    "\n",
    "from torch.utils.data import DataLoader"
   ]
  },
  {
   "cell_type": "code",
   "execution_count": 4,
   "metadata": {},
   "outputs": [],
   "source": [
    "data = TimeSeriesDataset(r\"datasets\\separated_company_size_same_length\\Retail\", \"Open\")\n",
    "data_loader = DataLoader(dataset=data, batch_size=1, \n",
    "                         shuffle=False, drop_last=False, num_workers=0)"
   ]
  },
  {
   "cell_type": "code",
   "execution_count": 5,
   "metadata": {},
   "outputs": [],
   "source": [
    "data_trg = TimeSeriesDataset(r\"datasets\\separated_company_size_same_length\\Retail\", \"company_size\")\n",
    "data_loader_trg = DataLoader(dataset=data_trg, batch_size=1, \n",
    "                         shuffle=False, drop_last=False, num_workers=0)"
   ]
  },
  {
   "cell_type": "code",
   "execution_count": 10,
   "metadata": {},
   "outputs": [
    {
     "name": "stderr",
     "output_type": "stream",
     "text": [
      "c:\\Users\\msuehle\\Documents\\College\\CMSC828A\\CMSC828A_Final_Proj\\env\\Lib\\site-packages\\huggingface_hub\\file_download.py:1132: FutureWarning: `resume_download` is deprecated and will be removed in version 1.0.0. Downloads always resume when possible. If you want to force a new download, use `force_download=True`.\n",
      "  warnings.warn(\n"
     ]
    },
    {
     "name": "stdout",
     "output_type": "stream",
     "text": [
      "tensor([[178.3078, 179.2245, 179.2245, 178.3078, 176.9326, 175.0992, 176.4743,\n",
      "         176.9327, 177.3911, 179.2245, 179.2245, 180.5997, 178.3078, 179.2245,\n",
      "         181.0580, 181.9748, 180.5997, 180.5997, 181.0580, 182.4332, 181.9748,\n",
      "         183.8083, 183.8083, 184.7250, 184.2667, 185.1834, 185.6418, 185.1834,\n",
      "         185.1834, 186.5586]], dtype=torch.float64)\n",
      "tensor([[  0.,   0.,   0.,   0.,   0.,   0.,   0.,   0.,   0.,   0.,   0.,   0.,\n",
      "           0.,   0.,   0.,   0.,   0.,   0.,   0., 280.,   0.,   0.,   0.,   0.,\n",
      "           0.,   0.,   0.,   0.,   0.,   0.]])\n",
      "tensor(31960.8304, dtype=torch.float64)\n"
     ]
    }
   ],
   "source": [
    "import torch\n",
    "cr = ChronosRunner()\n",
    "joint_loaders = enumerate(zip(data_loader, data_loader_trg))\n",
    "for step, (src_x, trg_x) in joint_loaders:\n",
    "    src_x = src_x.to(\"cuda\")\n",
    "    trg_x = trg_x.to(\"cuda\")\n",
    "    # print(step)\n",
    "    # print(src_x)\n",
    "    # print(trg_x)\n",
    "    results = cr.evaluate(src_x.to('cpu'), trg_x.to('cpu'), make_plot=True)\n",
    "    print(torch.tensor(results['median']))\n",
    "    print(torch.tensor(results['labels']))\n",
    "    loss = torch.nn.MSELoss()\n",
    "    print(loss(torch.tensor(results['median']), torch.tensor(results['labels'])))\n",
    "    break"
   ]
  }
 ],
 "metadata": {
  "kernelspec": {
   "display_name": "env",
   "language": "python",
   "name": "python3"
  },
  "language_info": {
   "codemirror_mode": {
    "name": "ipython",
    "version": 3
   },
   "file_extension": ".py",
   "mimetype": "text/x-python",
   "name": "python",
   "nbconvert_exporter": "python",
   "pygments_lexer": "ipython3",
   "version": "3.11.5"
  }
 },
 "nbformat": 4,
 "nbformat_minor": 2
}
