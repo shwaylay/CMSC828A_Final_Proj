{
 "cells": [
  {
   "cell_type": "code",
   "execution_count": 2,
   "metadata": {},
   "outputs": [],
   "source": [
    "import os \n",
    "import glob\n",
    "import pandas as pd\n",
    "from torch.utils.data import Dataset\n",
    "import numpy as np\n",
    "import torch\n",
    "from glob import glob\n",
    "import warnings\n",
    "from random import shuffle\n",
    "import shutil\n",
    "warnings.simplefilter(action='ignore', category=UserWarning)"
   ]
  },
  {
   "cell_type": "code",
   "execution_count": 7,
   "metadata": {},
   "outputs": [],
   "source": [
    "folder_names = ['chronos_stocks_layoffs', 'chronos_stocks_no_layoffs', 'stocks_layoffs', 'stocks_no_layoffs']\n",
    "\n",
    "all_csv_files = []\n",
    "EXT = \"*.csv\"  # Define the variable EXT\n",
    "for path, subdir, files in os.walk(os.path.join('datasets', 'stocks_no_layoffs')):\n",
    "        \n",
    "    for file in glob(os.path.join(path, EXT)):\n",
    "        # print(file)\n",
    "        df = pd.read_csv(file, index_col=0, parse_dates=True).sort_index()\n",
    "        ## If length of dataset is over 90, then cut it to 90\n",
    "        if len(df) > 90:\n",
    "            print(\"OVER LENGTH\", file)\n",
    "            df = df[-90:]\n",
    "        ## If length of dataset is less than 90, then skip it\n",
    "        if len(df) < 90:\n",
    "            continue\n",
    "        all_csv_files.append(file)"
   ]
  },
  {
   "cell_type": "code",
   "execution_count": 8,
   "metadata": {},
   "outputs": [
    {
     "name": "stdout",
     "output_type": "stream",
     "text": [
      "['datasets/stocks_no_layoffs/Retail/LFLY0.csv', 'datasets/stocks_no_layoffs/Other/AUDC0.csv', 'datasets/stocks_no_layoffs/Finance/SOFI0.csv', 'datasets/stocks_no_layoffs/Retail/SHOP0.csv', 'datasets/stocks_no_layoffs/Media/LSXMA0.csv', 'datasets/stocks_no_layoffs/Other/TEAM0.csv', 'datasets/stocks_no_layoffs/Food/BYND0.csv', 'datasets/stocks_no_layoffs/Finance/HOOD0.csv', 'datasets/stocks_no_layoffs/Transportation/UBER3.csv', 'datasets/stocks_no_layoffs/Other/SMAR0.csv', 'datasets/stocks_no_layoffs/Consumer/SONO1.csv', 'datasets/stocks_no_layoffs/Transportation/TRUE0.csv', 'datasets/stocks_no_layoffs/Sales/CRM0.csv', 'datasets/stocks_no_layoffs/Transportation/GOEV0.csv', 'datasets/stocks_no_layoffs/Real Estate/LEVI0.csv', 'datasets/stocks_no_layoffs/Retail/AMZN1.csv', 'datasets/stocks_no_layoffs/Transportation/RIVN1.csv', 'datasets/stocks_no_layoffs/Finance/BL1.csv', 'datasets/stocks_no_layoffs/Transport…/INVZ0.csv', 'datasets/stocks_no_layoffs/Real Estate/RDFN0.csv', 'datasets/stocks_no_layoffs/Consumer/IRBT1.csv', 'datasets/stocks_no_layoffs/Real Estate/Z0.csv', 'datasets/stocks_no_layoffs/Infrastruc…/EGIO2.csv', 'datasets/stocks_no_layoffs/Finance/NCNO0.csv', 'datasets/stocks_no_layoffs/Travel/VCSA0.csv', 'datasets/stocks_no_layoffs/Retail/REAL1.csv', 'datasets/stocks_no_layoffs/Other/SOUN0.csv', 'datasets/stocks_no_layoffs/Security/AKAM0.csv', 'datasets/stocks_no_layoffs/Finance/RPID0.csv', 'datasets/stocks_no_layoffs/Other/UPWK0.csv', 'datasets/stocks_no_layoffs/Travel/MMYT0.csv', 'datasets/stocks_no_layoffs/Real Estate/OPEN1.csv', 'datasets/stocks_no_layoffs/Travel/TRIP1.csv', 'datasets/stocks_no_layoffs/Transportation/UBER4.csv', 'datasets/stocks_no_layoffs/Transport…/NCLH2.csv', 'datasets/stocks_no_layoffs/Finance/BL0.csv', 'datasets/stocks_no_layoffs/Retail/BIGC0.csv', 'datasets/stocks_no_layoffs/Finance/OPRT0.csv', 'datasets/stocks_no_layoffs/Hardware/WDC0.csv', 'datasets/stocks_no_layoffs/Hardware/MU0.csv', 'datasets/stocks_no_layoffs/Retail/ETSY1.csv', 'datasets/stocks_no_layoffs/Retail/W1.csv', 'datasets/stocks_no_layoffs/Finance/PYPL0.csv', 'datasets/stocks_no_layoffs/Sales/DOCU1.csv', 'datasets/stocks_no_layoffs/Media/NFLX1.csv', 'datasets/stocks_no_layoffs/Finance/BOLT1.csv', 'datasets/stocks_no_layoffs/Retail/AMZN2.csv', 'datasets/stocks_no_layoffs/Infrastruc…/EGIO1.csv', 'datasets/stocks_no_layoffs/Food/TOST0.csv', 'datasets/stocks_no_layoffs/Security/OKTA0.csv', 'datasets/stocks_no_layoffs/Infrastructure/NTNX0.csv', 'datasets/stocks_no_layoffs/Education/THS0.csv', 'datasets/stocks_no_layoffs/Healthcare/ILMN0.csv', 'datasets/stocks_no_layoffs/Real Estate/OPEN2.csv', 'datasets/stocks_no_layoffs/Transportation/CVNA0.csv', 'datasets/stocks_no_layoffs/Marketing/PERI0.csv', 'datasets/stocks_no_layoffs/Transportation/UBER1.csv', 'datasets/stocks_no_layoffs/Fitness/PTON0.csv', 'datasets/stocks_no_layoffs/Finance/LPTV1.csv', 'datasets/stocks_no_layoffs/Consumer/PLTK0.csv', 'datasets/stocks_no_layoffs/Consumer/EA0.csv', 'datasets/stocks_no_layoffs/Healthcare/ME1.csv', 'datasets/stocks_no_layoffs/Security/SCWX1.csv', 'datasets/stocks_no_layoffs/Consumer/IRBT0.csv', 'datasets/stocks_no_layoffs/Healthcare/ICAD0.csv', 'datasets/stocks_no_layoffs/Food/BYND1.csv', 'datasets/stocks_no_layoffs/Transportation/CARG0.csv', 'datasets/stocks_no_layoffs/Transportation/UBER0.csv', 'datasets/stocks_no_layoffs/Real Estate/RDFN1.csv', 'datasets/stocks_no_layoffs/Media/ROKU0.csv', 'datasets/stocks_no_layoffs/Retail/LFLY1.csv', 'datasets/stocks_no_layoffs/Manufacturing/ZBRA0.csv', 'datasets/stocks_no_layoffs/Sales/DOCU2.csv', 'datasets/stocks_no_layoffs/Real Estate/RDFN2.csv', 'datasets/stocks_no_layoffs/Other/TWLO1.csv', 'datasets/stocks_no_layoffs/Real Estate/RBBN0.csv', 'datasets/stocks_no_layoffs/Healthcare/GH0.csv', 'datasets/stocks_no_layoffs/Data/AMPL0.csv', 'datasets/stocks_no_layoffs/Retail/AMZN3.csv', 'datasets/stocks_no_layoffs/Real Estate/VEEV0.csv', 'datasets/stocks_no_layoffs/Real Estate/Z1.csv', 'datasets/stocks_no_layoffs/Retail/GRPN1.csv', 'datasets/stocks_no_layoffs/Product/BLDR0.csv', 'datasets/stocks_no_layoffs/Marketing/TTGT0.csv', 'datasets/stocks_no_layoffs/Real Estate/CDRE0.csv', 'datasets/stocks_no_layoffs/Real Estate/COMP2.csv', 'datasets/stocks_no_layoffs/Support/EGHT1.csv', 'datasets/stocks_no_layoffs/Travel/EXPE0.csv', 'datasets/stocks_no_layoffs/Consumer/SONO0.csv', 'datasets/stocks_no_layoffs/Finance/RPID1.csv', 'datasets/stocks_no_layoffs/Food/LNW0.csv', 'datasets/stocks_no_layoffs/Retail/AMZN0.csv', 'datasets/stocks_no_layoffs/Food/BYND2.csv', 'datasets/stocks_no_layoffs/Real Estate/CREX0.csv', 'datasets/stocks_no_layoffs/Aerospace/ASTR0.csv', 'datasets/stocks_no_layoffs/Transport…/VRM1.csv', 'datasets/stocks_no_layoffs/Media/LSXMA1.csv', 'datasets/stocks_no_layoffs/Transportation/TRUE1.csv', 'datasets/stocks_no_layoffs/Finance/BLND0.csv', 'datasets/stocks_no_layoffs/Finance/LMND0.csv', 'datasets/stocks_no_layoffs/Transportation/GRAB0.csv', 'datasets/stocks_no_layoffs/Finance/LPTV0.csv', 'datasets/stocks_no_layoffs/Consumer/GPRO0.csv', 'datasets/stocks_no_layoffs/Energy/SEDG0.csv', 'datasets/stocks_no_layoffs/Retail/RENT0.csv', 'datasets/stocks_no_layoffs/Support/LPSN0.csv', 'datasets/stocks_no_layoffs/Hardware/DELL0.csv', 'datasets/stocks_no_layoffs/Healthcare/FORD0.csv', 'datasets/stocks_no_layoffs/Real Estate/RDFN3.csv', 'datasets/stocks_no_layoffs/Marketing/CBU0.csv', 'datasets/stocks_no_layoffs/Infrastruc…/CSCO1.csv', 'datasets/stocks_no_layoffs/Finance/BOLT2.csv', 'datasets/stocks_no_layoffs/Retail/GRPN0.csv', 'datasets/stocks_no_layoffs/Finance/INTU0.csv', 'datasets/stocks_no_layoffs/Consumer/META1.csv', 'datasets/stocks_no_layoffs/Retail/ETSY0.csv', 'datasets/stocks_no_layoffs/Education/GHLD0.csv', 'datasets/stocks_no_layoffs/Media/ROKU1.csv', 'datasets/stocks_no_layoffs/Marketing/WIX0.csv', 'datasets/stocks_no_layoffs/Other/SOUN1.csv', 'datasets/stocks_no_layoffs/Recruiting/TBLT0.csv', 'datasets/stocks_no_layoffs/Food/BYND3.csv', 'datasets/stocks_no_layoffs/Transportation/LYFT0.csv', 'datasets/stocks_no_layoffs/Data/MRDB0.csv', 'datasets/stocks_no_layoffs/Consumer/YELP0.csv', 'datasets/stocks_no_layoffs/Retail/LFLY2.csv', 'datasets/stocks_no_layoffs/Transportation/LYFT2.csv', 'datasets/stocks_no_layoffs/Data/MTTR1.csv', 'datasets/stocks_no_layoffs/Hardware/MU1.csv', 'datasets/stocks_no_layoffs/Other/PI0.csv', 'datasets/stocks_no_layoffs/Retail/SHOP1.csv', 'datasets/stocks_no_layoffs/Healthcare/OSCR0.csv', 'datasets/stocks_no_layoffs/Data/DOMO0.csv', 'datasets/stocks_no_layoffs/Real Estate/COMP0.csv', 'datasets/stocks_no_layoffs/Marketing/GDDY0.csv', 'datasets/stocks_no_layoffs/Food/OLO0.csv', 'datasets/stocks_no_layoffs/Logistics/GIFI0.csv', 'datasets/stocks_no_layoffs/Transportation/IKNA0.csv', 'datasets/stocks_no_layoffs/Transportation/REE0.csv', 'datasets/stocks_no_layoffs/Consumer/EA1.csv', 'datasets/stocks_no_layoffs/Retail/W2.csv', 'datasets/stocks_no_layoffs/Transportation/LIDR0.csv', 'datasets/stocks_no_layoffs/Other/ERIC0.csv', 'datasets/stocks_no_layoffs/Crypto/CELH0.csv', 'datasets/stocks_no_layoffs/Transport…/NCLH0.csv', 'datasets/stocks_no_layoffs/Retail/DIBS0.csv', 'datasets/stocks_no_layoffs/Healthcare/QTRX0.csv', 'datasets/stocks_no_layoffs/Other/MSFT0.csv', 'datasets/stocks_no_layoffs/Transportation/LYFT1.csv', 'datasets/stocks_no_layoffs/Sales/DOCU0.csv', 'datasets/stocks_no_layoffs/Other/DBX1.csv', 'datasets/stocks_no_layoffs/Energy/SMR0.csv', 'datasets/stocks_no_layoffs/Consumer/SNAP1.csv', 'datasets/stocks_no_layoffs/Crypto/COIN0.csv', 'datasets/stocks_no_layoffs/Other/SAP0.csv', 'datasets/stocks_no_layoffs/Healthcare/GDRX0.csv', 'datasets/stocks_no_layoffs/Media/KLTR0.csv', 'datasets/stocks_no_layoffs/Transportation/CVNA1.csv', 'datasets/stocks_no_layoffs/Other/SAP1.csv', 'datasets/stocks_no_layoffs/Retail/NTRA0.csv', 'datasets/stocks_no_layoffs/Transport…/NCLH1.csv', 'datasets/stocks_no_layoffs/Transportation/UBER2.csv', 'datasets/stocks_no_layoffs/Recruiting/DOV0.csv', 'datasets/stocks_no_layoffs/Finance/AFRM0.csv', 'datasets/stocks_no_layoffs/Hardware/XRX0.csv', 'datasets/stocks_no_layoffs/Retail/REAL0.csv', 'datasets/stocks_no_layoffs/Travel/SOND0.csv', 'datasets/stocks_no_layoffs/Infrastruc…/CSCO0.csv', 'datasets/stocks_no_layoffs/Retail/EBAY1.csv', 'datasets/stocks_no_layoffs/Healthcare/NVRO0.csv', 'datasets/stocks_no_layoffs/Finance/HOOD1.csv', 'datasets/stocks_no_layoffs/Sales/ZI0.csv', 'datasets/stocks_no_layoffs/Transport…/VRM2.csv', 'datasets/stocks_no_layoffs/Retail/SFIX1.csv', 'datasets/stocks_no_layoffs/Real Estate/APPF0.csv', 'datasets/stocks_no_layoffs/Finance/HOOD2.csv', 'datasets/stocks_no_layoffs/Travel/SABR0.csv', 'datasets/stocks_no_layoffs/Finance/BLND1.csv', 'datasets/stocks_no_layoffs/Consumer/SKLZ0.csv', 'datasets/stocks_no_layoffs/Data/MTTR0.csv', 'datasets/stocks_no_layoffs/Other/AEP0.csv', 'datasets/stocks_no_layoffs/Security/OKTA1.csv', 'datasets/stocks_no_layoffs/Real Estate/OPEN0.csv', 'datasets/stocks_no_layoffs/Transport…/VRM3.csv', 'datasets/stocks_no_layoffs/Finance/PYPL1.csv', 'datasets/stocks_no_layoffs/Support/EGHT0.csv', 'datasets/stocks_no_layoffs/Marketing/IAS0.csv', 'datasets/stocks_no_layoffs/Transportation/LYFT3.csv', 'datasets/stocks_no_layoffs/Fitness/PTON1.csv', 'datasets/stocks_no_layoffs/Finance/BOLT0.csv', 'datasets/stocks_no_layoffs/Healthcare/BMRN0.csv', 'datasets/stocks_no_layoffs/Real Estate/COMP1.csv', 'datasets/stocks_no_layoffs/Transport…/VRM0.csv', 'datasets/stocks_no_layoffs/Security/SCWX0.csv', 'datasets/stocks_no_layoffs/HR/AESI0.csv', 'datasets/stocks_no_layoffs/Finance/FLYW0.csv', 'datasets/stocks_no_layoffs/Other/DBX0.csv', 'datasets/stocks_no_layoffs/Finance/ACI0.csv', 'datasets/stocks_no_layoffs/Retail/SFIX0.csv', 'datasets/stocks_no_layoffs/Other/TWLO0.csv', 'datasets/stocks_no_layoffs/Fitness/PTON2.csv', 'datasets/stocks_no_layoffs/Healthcare/ME0.csv', 'datasets/stocks_no_layoffs/Consumer/META0.csv', 'datasets/stocks_no_layoffs/Infrastructure/DOCN0.csv', 'datasets/stocks_no_layoffs/Education/CHGG0.csv', 'datasets/stocks_no_layoffs/Product/STRM0.csv', 'datasets/stocks_no_layoffs/Energy/ENPH0.csv', 'datasets/stocks_no_layoffs/Consumer/EB0.csv', 'datasets/stocks_no_layoffs/Transportation/BLBD0.csv', 'datasets/stocks_no_layoffs/Energy/ENPH1.csv', 'datasets/stocks_no_layoffs/Transportation/BLBD1.csv', 'datasets/stocks_no_layoffs/Healthcare/TWST0.csv', 'datasets/stocks_no_layoffs/Finance/MOGO0.csv', 'datasets/stocks_no_layoffs/Travel/VCSA1.csv', 'datasets/stocks_no_layoffs/Consumer/DKNG0.csv', 'datasets/stocks_no_layoffs/Other/ASAN0.csv', 'datasets/stocks_no_layoffs/Food/SG0.csv', 'datasets/stocks_no_layoffs/Travel/MMYT1.csv', 'datasets/stocks_no_layoffs/Media/ROKU2.csv', 'datasets/stocks_no_layoffs/Consumer/IRBT2.csv', 'datasets/stocks_no_layoffs/HR/LSCC1.csv', 'datasets/stocks_no_layoffs/Transportation/USLM0.csv', 'datasets/stocks_no_layoffs/Retail/EBAY0.csv', 'datasets/stocks_no_layoffs/Healthcare/DOCS0.csv', 'datasets/stocks_no_layoffs/Retail/W0.csv', 'datasets/stocks_no_layoffs/Marketing/BCOV0.csv', 'datasets/stocks_no_layoffs/Marketing/HUBS0.csv', 'datasets/stocks_no_layoffs/Security/ZS0.csv', 'datasets/stocks_no_layoffs/Travel/TRIP0.csv', 'datasets/stocks_no_layoffs/Healthcare/SAGE0.csv', 'datasets/stocks_no_layoffs/Other/ZM1.csv', 'datasets/stocks_no_layoffs/Infrastruc…/EGIO0.csv', 'datasets/stocks_no_layoffs/Transportation/GRAB1.csv', 'datasets/stocks_no_layoffs/Media/NFLX0.csv', 'datasets/stocks_no_layoffs/Healthcare/FATE0.csv', 'datasets/stocks_no_layoffs/Consumer/SNAP0.csv', 'datasets/stocks_no_layoffs/Transportation/RIVN0.csv', 'datasets/stocks_no_layoffs/Aerospace/PL0.csv', 'datasets/stocks_no_layoffs/HR/LSCC0.csv', 'datasets/stocks_no_layoffs/Other/AUDC1.csv', 'datasets/stocks_no_layoffs/Security/RPD0.csv', 'datasets/stocks_no_layoffs/HR/WDAY0.csv', 'datasets/stocks_no_layoffs/Consumer/EB1.csv', 'datasets/stocks_no_layoffs/Data/PLTR0.csv', 'datasets/stocks_no_layoffs/Other/ZM0.csv', 'datasets/stocks_no_layoffs/Healthcare/TDOC0.csv', 'datasets/stocks_no_layoffs/Support/CXM0.csv']\n",
      "247\n",
      "49\n"
     ]
    }
   ],
   "source": [
    "test_folder_name = \"datasets/stocks_no_layoffs_test/\"\n",
    "train_folder_name = \"datasets/stocks_no_layoffs_train/\"\n",
    "\n",
    "shuffle(all_csv_files)\n",
    "\n",
    "print(all_csv_files)\n",
    "print(len(all_csv_files))\n",
    "\n",
    "test_folder_size = int((len(all_csv_files) * 0.2))\n",
    "print(test_folder_size)\n",
    "\n",
    "for index, source_file_path in enumerate(all_csv_files):\n",
    "    file_name = os.path.basename(source_file_path)\n",
    "    if index < test_folder_size:\n",
    "        destintation_file_path = os.path.join(test_folder_name, file_name)\n",
    "    else: \n",
    "        destintation_file_path = os.path.join(train_folder_name, file_name)\n",
    "\n",
    "    shutil.copy(source_file_path, destintation_file_path)"
   ]
  },
  {
   "cell_type": "code",
   "execution_count": 9,
   "metadata": {},
   "outputs": [
    {
     "name": "stdout",
     "output_type": "stream",
     "text": [
      "49\n"
     ]
    }
   ],
   "source": [
    "folder_names = ['chronos_stocks_layoffs', 'chronos_stocks_no_layoffs', 'stocks_layoffs', 'stocks_no_layoffs']\n",
    "\n",
    "test_folder_length = []\n",
    "EXT = \"*.csv\"  # Define the variable EXT\n",
    "for path, subdir, files in os.walk(os.path.join('datasets', 'stocks_no_layoffs_test')):\n",
    "        \n",
    "    for file in glob(os.path.join(path, EXT)):\n",
    "        test_folder_length.append(file)\n",
    "\n",
    "print(len(test_folder_length))"
   ]
  }
 ],
 "metadata": {
  "kernelspec": {
   "display_name": "env",
   "language": "python",
   "name": "python3"
  },
  "language_info": {
   "codemirror_mode": {
    "name": "ipython",
    "version": 3
   },
   "file_extension": ".py",
   "mimetype": "text/x-python",
   "name": "python",
   "nbconvert_exporter": "python",
   "pygments_lexer": "ipython3",
   "version": "3.11.3+"
  }
 },
 "nbformat": 4,
 "nbformat_minor": 2
}
